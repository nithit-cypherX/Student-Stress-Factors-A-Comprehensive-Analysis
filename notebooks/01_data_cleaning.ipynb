{
 "cells": [
  {
   "cell_type": "markdown",
   "metadata": {},
   "source": [
    "## IMPORT : RAW.DATA\n",
    "\n",
    "1.  **Create a DataFrame:** Create a Pandas DataFrame from the data "
   ]
  },
  {
   "cell_type": "code",
   "execution_count": 8,
   "metadata": {},
   "outputs": [],
   "source": [
    "import pandas as pd\n",
    "import numpy as np\n",
    "import matplotlib.pyplot as plt\n",
    "import seaborn as sns"
   ]
  },
  {
   "cell_type": "code",
   "execution_count": 10,
   "metadata": {
    "vscode": {
     "languageId": "plaintext"
    }
   },
   "outputs": [
    {
     "name": "stdout",
     "output_type": "stream",
     "text": [
      "CSV file loaded successfully!\n"
     ]
    }
   ],
   "source": [
    "try:\n",
    "    df = pd.read_csv('../data/raw_data.csv')\n",
    "    print(\"CSV file loaded successfully!\")\n",
    "except FileNotFoundError:\n",
    "    print(\"Error: 'rawData.csv' not found. Please make sure the file is in the same directory as your notebook or provide the correct path.\")\n",
    "    exit()"
   ]
  },
  {
   "cell_type": "code",
   "execution_count": 12,
   "metadata": {},
   "outputs": [
    {
     "name": "stdout",
     "output_type": "stream",
     "text": [
      "\n",
      "Info about the data types:\n",
      "<class 'pandas.core.frame.DataFrame'>\n",
      "RangeIndex: 1100 entries, 0 to 1099\n",
      "Data columns (total 21 columns):\n",
      " #   Column                        Non-Null Count  Dtype\n",
      "---  ------                        --------------  -----\n",
      " 0   anxiety_level                 1100 non-null   int64\n",
      " 1   self_esteem                   1100 non-null   int64\n",
      " 2   mental_health_history         1100 non-null   int64\n",
      " 3   depression                    1100 non-null   int64\n",
      " 4   headache                      1100 non-null   int64\n",
      " 5   blood_pressure                1100 non-null   int64\n",
      " 6   sleep_quality                 1100 non-null   int64\n",
      " 7   breathing_problem             1100 non-null   int64\n",
      " 8   noise_level                   1100 non-null   int64\n",
      " 9   living_conditions             1100 non-null   int64\n",
      " 10  safety                        1100 non-null   int64\n",
      " 11  basic_needs                   1100 non-null   int64\n",
      " 12  academic_performance          1100 non-null   int64\n",
      " 13  study_load                    1100 non-null   int64\n",
      " 14  teacher_student_relationship  1100 non-null   int64\n",
      " 15  future_career_concerns        1100 non-null   int64\n",
      " 16  social_support                1100 non-null   int64\n",
      " 17  peer_pressure                 1100 non-null   int64\n",
      " 18  extracurricular_activities    1100 non-null   int64\n",
      " 19  bullying                      1100 non-null   int64\n",
      " 20  stress_level                  1100 non-null   int64\n",
      "dtypes: int64(21)\n",
      "memory usage: 180.6 KB\n",
      "None\n",
      "\n",
      "Describe:\n",
      "       anxiety_level  self_esteem  mental_health_history   depression  \\\n",
      "count    1100.000000  1100.000000            1100.000000  1100.000000   \n",
      "mean       11.063636    17.777273               0.492727    12.555455   \n",
      "std         6.117558     8.944599               0.500175     7.727008   \n",
      "min         0.000000     0.000000               0.000000     0.000000   \n",
      "25%         6.000000    11.000000               0.000000     6.000000   \n",
      "50%        11.000000    19.000000               0.000000    12.000000   \n",
      "75%        16.000000    26.000000               1.000000    19.000000   \n",
      "max        21.000000    30.000000               1.000000    27.000000   \n",
      "\n",
      "          headache  blood_pressure  sleep_quality  breathing_problem  \\\n",
      "count  1100.000000     1100.000000    1100.000000        1100.000000   \n",
      "mean      2.508182        2.181818       2.660000           2.753636   \n",
      "std       1.409356        0.833575       1.548383           1.400713   \n",
      "min       0.000000        1.000000       0.000000           0.000000   \n",
      "25%       1.000000        1.000000       1.000000           2.000000   \n",
      "50%       3.000000        2.000000       2.500000           3.000000   \n",
      "75%       3.000000        3.000000       4.000000           4.000000   \n",
      "max       5.000000        3.000000       5.000000           5.000000   \n",
      "\n",
      "       noise_level  living_conditions  ...  basic_needs  academic_performance  \\\n",
      "count  1100.000000        1100.000000  ...  1100.000000           1100.000000   \n",
      "mean      2.649091           2.518182  ...     2.772727              2.772727   \n",
      "std       1.328127           1.119208  ...     1.433761              1.414594   \n",
      "min       0.000000           0.000000  ...     0.000000              0.000000   \n",
      "25%       2.000000           2.000000  ...     2.000000              2.000000   \n",
      "50%       3.000000           2.000000  ...     3.000000              2.000000   \n",
      "75%       3.000000           3.000000  ...     4.000000              4.000000   \n",
      "max       5.000000           5.000000  ...     5.000000              5.000000   \n",
      "\n",
      "        study_load  teacher_student_relationship  future_career_concerns  \\\n",
      "count  1100.000000                   1100.000000             1100.000000   \n",
      "mean      2.621818                      2.648182                2.649091   \n",
      "std       1.315781                      1.384579                1.529375   \n",
      "min       0.000000                      0.000000                0.000000   \n",
      "25%       2.000000                      2.000000                1.000000   \n",
      "50%       2.000000                      2.000000                2.000000   \n",
      "75%       3.000000                      4.000000                4.000000   \n",
      "max       5.000000                      5.000000                5.000000   \n",
      "\n",
      "       social_support  peer_pressure  extracurricular_activities     bullying  \\\n",
      "count     1100.000000    1100.000000                 1100.000000  1100.000000   \n",
      "mean         1.881818       2.734545                    2.767273     2.617273   \n",
      "std          1.047826       1.425265                    1.417562     1.530958   \n",
      "min          0.000000       0.000000                    0.000000     0.000000   \n",
      "25%          1.000000       2.000000                    2.000000     1.000000   \n",
      "50%          2.000000       2.000000                    2.500000     3.000000   \n",
      "75%          3.000000       4.000000                    4.000000     4.000000   \n",
      "max          3.000000       5.000000                    5.000000     5.000000   \n",
      "\n",
      "       stress_level  \n",
      "count   1100.000000  \n",
      "mean       0.996364  \n",
      "std        0.821673  \n",
      "min        0.000000  \n",
      "25%        0.000000  \n",
      "50%        1.000000  \n",
      "75%        2.000000  \n",
      "max        2.000000  \n",
      "\n",
      "[8 rows x 21 columns]\n",
      "\n",
      "Columns:\n",
      "Index(['anxiety_level', 'self_esteem', 'mental_health_history', 'depression',\n",
      "       'headache', 'blood_pressure', 'sleep_quality', 'breathing_problem',\n",
      "       'noise_level', 'living_conditions', 'safety', 'basic_needs',\n",
      "       'academic_performance', 'study_load', 'teacher_student_relationship',\n",
      "       'future_career_concerns', 'social_support', 'peer_pressure',\n",
      "       'extracurricular_activities', 'bullying', 'stress_level'],\n",
      "      dtype='object')\n"
     ]
    }
   ],
   "source": [
    "print(\"\\nInfo about the data types:\")\n",
    "print(df.info())\n",
    "print(\"\\nDescribe:\")\n",
    "print(df.describe())\n",
    "print(\"\\nColumns:\")\n",
    "print(df.columns)"
   ]
  },
  {
   "cell_type": "markdown",
   "metadata": {},
   "source": [
    "2.  **EDA:**\n",
    "*   Use `describe()` to get summary statistics of the 'What you want' column."
   ]
  },
  {
   "cell_type": "code",
   "execution_count": 5,
   "metadata": {},
   "outputs": [
    {
     "data": {
      "text/plain": [
       "count    1100.000000\n",
       "mean       11.063636\n",
       "std         6.117558\n",
       "min         0.000000\n",
       "25%         6.000000\n",
       "50%        11.000000\n",
       "75%        16.000000\n",
       "max        21.000000\n",
       "Name: anxiety_level, dtype: float64"
      ]
     },
     "execution_count": 5,
     "metadata": {},
     "output_type": "execute_result"
    }
   ],
   "source": []
  },
  {
   "cell_type": "code",
   "execution_count": null,
   "metadata": {},
   "outputs": [],
   "source": []
  }
 ],
 "metadata": {
  "kernelspec": {
   "display_name": "Python 3 (ipykernel)",
   "language": "python",
   "name": "python3"
  },
  "language_info": {
   "codemirror_mode": {
    "name": "ipython",
    "version": 3
   },
   "file_extension": ".py",
   "mimetype": "text/x-python",
   "name": "python",
   "nbconvert_exporter": "python",
   "pygments_lexer": "ipython3",
   "version": "3.12.3"
  }
 },
 "nbformat": 4,
 "nbformat_minor": 4
}

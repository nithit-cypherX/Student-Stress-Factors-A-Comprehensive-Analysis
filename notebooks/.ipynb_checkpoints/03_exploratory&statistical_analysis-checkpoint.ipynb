{
 "cells": [
  {
   "cell_type": "markdown",
   "metadata": {},
   "source": [
    " ## Exploratory Data Analysis"
   ]
  },
  {
   "cell_type": "code",
   "execution_count": 1,
   "metadata": {},
   "outputs": [],
   "source": [
    "import pandas as pd\n",
    "import numpy as np\n",
    "import matplotlib.pyplot as plt\n",
    "import seaborn as sns\n",
    "from sklearn.preprocessing import MinMaxScaler, StandardScaler, RobustScaler"
   ]
  },
  {
   "cell_type": "code",
   "execution_count": 2,
   "metadata": {},
   "outputs": [
    {
     "name": "stdout",
     "output_type": "stream",
     "text": [
      "CSV file loaded successfully!\n"
     ]
    }
   ],
   "source": [
    "try:\n",
    "    df = pd.read_csv('../data/processed_data.csv')\n",
    "    print(\"CSV file loaded successfully!\")\n",
    "except FileNotFoundError:\n",
    "    print(\"Error: 'processed_data.csv' not found. Please make sure the file is in the same directory as your notebook or provide the correct path.\")\n",
    "    exit()"
   ]
  },
  {
   "cell_type": "code",
   "execution_count": 3,
   "metadata": {},
   "outputs": [
    {
     "name": "stdout",
     "output_type": "stream",
     "text": [
      "   anxiety_level  self_esteem  mental_health_history  depression  headache  \\\n",
      "0             14           20                      0          11         2   \n",
      "1             15            8                      1          15         5   \n",
      "2             12           18                      1          14         2   \n",
      "3             16           12                      1          15         4   \n",
      "4             16           28                      0           7         2   \n",
      "\n",
      "   blood_pressure  sleep_quality  breathing_problem  noise_level  \\\n",
      "0               1              2                  4            2   \n",
      "1               3              1                  4            3   \n",
      "2               1              2                  2            2   \n",
      "3               3              1                  3            4   \n",
      "4               3              5                  1            3   \n",
      "\n",
      "   living_conditions  ...  basic_needs  academic_performance  study_load  \\\n",
      "0                  3  ...            2                     3           2   \n",
      "1                  1  ...            2                     1           4   \n",
      "2                  2  ...            2                     2           3   \n",
      "3                  2  ...            2                     2           4   \n",
      "4                  2  ...            3                     4           3   \n",
      "\n",
      "   teacher_student_relationship  future_career_concerns  social_support  \\\n",
      "0                             3                       3               2   \n",
      "1                             1                       5               1   \n",
      "2                             3                       2               2   \n",
      "3                             1                       4               1   \n",
      "4                             1                       2               1   \n",
      "\n",
      "   peer_pressure  extracurricular_activities  bullying  stress_level  \n",
      "0              3                           3         2             1  \n",
      "1              4                           5         5             2  \n",
      "2              3                           2         2             1  \n",
      "3              4                           4         5             2  \n",
      "4              5                           0         5             1  \n",
      "\n",
      "[5 rows x 21 columns]\n"
     ]
    }
   ],
   "source": [
    "print(df.head())"
   ]
  },
  {
   "cell_type": "markdown",
   "metadata": {},
   "source": [
    "### Define student performance matrics with the most importance features"
   ]
  },
  {
   "cell_type": "code",
   "execution_count": 8,
   "metadata": {},
   "outputs": [
    {
     "name": "stdout",
     "output_type": "stream",
     "text": [
      "   anxiety_level  stress_level  headache  safety  blood_pressure  \\\n",
      "0       0.666667           0.5       0.4     0.6             0.0   \n",
      "1       0.714286           1.0       1.0     0.4             1.0   \n",
      "2       0.571429           0.5       0.4     0.6             0.0   \n",
      "3       0.761905           1.0       0.8     0.4             1.0   \n",
      "4       0.761905           0.5       0.4     0.8             1.0   \n",
      "\n",
      "   teacher_student_relationship  bullying  academic_performance  \\\n",
      "0                           0.6       0.4                   0.6   \n",
      "1                           0.2       1.0                   0.2   \n",
      "2                           0.6       0.4                   0.4   \n",
      "3                           0.2       1.0                   0.4   \n",
      "4                           0.2       1.0                   0.8   \n",
      "\n",
      "   extracurricular_activities  sleep_quality  \n",
      "0                         0.6            0.4  \n",
      "1                         1.0            0.2  \n",
      "2                         0.4            0.4  \n",
      "3                         0.8            0.2  \n",
      "4                         0.0            1.0  \n"
     ]
    }
   ],
   "source": [
    "from sklearn.preprocessing import MinMaxScaler\n",
    "from sklearn.model_selection import train_test_split, RandomizedSearchCV\n",
    "from sklearn.ensemble import RandomForestRegressor, GradientBoostingRegressor\n",
    "from sklearn.metrics import mean_absolute_error, r2_score\n",
    "import matplotlib.pyplot as plt\n",
    "import pandas as pd\n",
    "\n",
    "# STEP 1: Pick your top features\n",
    "top_features = ['anxiety_level', 'stress_level', 'headache', 'safety',\n",
    "                'blood_pressure', 'teacher_student_relationship', 'bullying', 'academic_performance' , 'extracurricular_activities' ]\n",
    "\n",
    "# STEP 2: Scale your data (MinMaxScaler to keep it 0-1 for easier plots)\n",
    "scaler = MinMaxScaler()\n",
    "df_scaled = pd.DataFrame(scaler.fit_transform(df[top_features + ['sleep_quality']]),\n",
    "                         columns=top_features + ['sleep_quality'])\n",
    "\n",
    "print(df_scaled.head())"
   ]
  },
  {
   "cell_type": "code",
   "execution_count": 10,
   "metadata": {},
   "outputs": [
    {
     "name": "stdout",
     "output_type": "stream",
     "text": [
      "   anxiety_level  stress_level  headache  safety  blood_pressure  \\\n",
      "0       0.666667           0.5       0.4     0.6             0.0   \n",
      "1       0.714286           1.0       1.0     0.4             1.0   \n",
      "2       0.571429           0.5       0.4     0.6             0.0   \n",
      "3       0.761905           1.0       0.8     0.4             1.0   \n",
      "4       0.761905           0.5       0.4     0.8             1.0   \n",
      "\n",
      "   teacher_student_relationship  bullying  academic_performance  \\\n",
      "0                           0.6       0.4                   0.6   \n",
      "1                           0.2       1.0                   0.2   \n",
      "2                           0.6       0.4                   0.4   \n",
      "3                           0.2       1.0                   0.4   \n",
      "4                           0.2       1.0                   0.8   \n",
      "\n",
      "   extracurricular_activities  sleep_quality  mentalHealth  relationship  \\\n",
      "0                         0.6            0.4      1.166667           1.2   \n",
      "1                         1.0            0.2      1.714286           0.4   \n",
      "2                         0.4            0.4      1.071429           1.0   \n",
      "3                         0.8            0.2      1.761905           0.6   \n",
      "4                         0.0            1.0      1.261905           1.0   \n",
      "\n",
      "   phihealth  acedemic_positive  acedemic_negative  \\\n",
      "0        0.4                0.6                0.4   \n",
      "1        2.0                1.0                1.0   \n",
      "2        0.4                0.4                0.4   \n",
      "3        1.8                0.8                1.0   \n",
      "4        1.4                0.0                1.0   \n",
      "\n",
      "   student_performance_weighted  student_performance_pca  \\\n",
      "0                      0.026667                -0.327508   \n",
      "1                     -0.342857                 1.294785   \n",
      "2                     -0.014286                -0.293200   \n",
      "3                     -0.272381                 1.121817   \n",
      "4                     -0.012381                 0.367425   \n",
      "\n",
      "   student_performance_pls  \n",
      "0                 0.516375  \n",
      "1                -3.043450  \n",
      "2                 0.622350  \n",
      "3                -2.472255  \n",
      "4                -0.363390  \n"
     ]
    }
   ],
   "source": [
    "from sklearn.decomposition import PCA\n",
    "from sklearn.cross_decomposition import PLSRegression\n",
    "# STEP 3: Create feature combos (engineering)\n",
    "df_scaled['mentalHealth'] = df_scaled['anxiety_level'] + df_scaled['stress_level']\n",
    "df_scaled['relationship'] = df_scaled['teacher_student_relationship'] + df_scaled['academic_performance']\n",
    "df_scaled['phihealth'] = df_scaled['headache'] + df_scaled['blood_pressure']\n",
    "df_scaled['acedemic_positive'] = df_scaled['extracurricular_activities']\n",
    "df_scaled['acedemic_negative'] = df_scaled['bullying']\n",
    "\n",
    "df_scaled['student_performance_weighted'] = (\n",
    "    0.3 * df_scaled['academic_performance'] +  # direct academic\n",
    "    0.2 * df_scaled['teacher_student_relationship'] +  # social\n",
    "    -0.2 * df_scaled['stress_level'] +  # mental pressure\n",
    "    -0.2 * df_scaled['anxiety_level'] +\n",
    "    -0.1 * df_scaled['headache']  # health symptom\n",
    ")\n",
    "\n",
    "pca = PCA(n_components=1)\n",
    "df_scaled['student_performance_pca'] = pca.fit_transform(\n",
    "    df_scaled[['mentalHealth', 'relationship', 'phihealth']]\n",
    ")\n",
    "\n",
    "pls = PLSRegression(n_components=1)\n",
    "df_scaled['student_performance_pls'] = pls.fit_transform(\n",
    "    df_scaled[['mentalHealth', 'relationship', 'phihealth', 'acedemic_positive', 'acedemic_negative']],\n",
    "    df_scaled[['academic_performance']]\n",
    ")[0]\n",
    "\n",
    "\n",
    "# df_scaled['student_performance'] = (df_scaled['relationship'] + df_scaled['acedemic']) - (df_scaled['phihealth']  + df_scaled['mentalHealth'] )\n",
    "\n",
    "print(df_scaled.head())"
   ]
  },
  {
   "cell_type": "code",
   "execution_count": 12,
   "metadata": {},
   "outputs": [
    {
     "name": "stdout",
     "output_type": "stream",
     "text": [
      "🌲RandomForest MAE: 0.126, R²: 0.604\n"
     ]
    }
   ],
   "source": [
    "# Use all combo features instead of only one\n",
    "# X = df_scaled[['mentalHealth', 'relationship', 'phihealth', 'acedemic']]  # better input\n",
    "# Optional: Try with PCA single feature too:\n",
    "X = df_scaled[['student_performance_pls'] ]\n",
    "\n",
    "y = df_scaled['sleep_quality']\n",
    "\n",
    "# Train-test split\n",
    "X_train , X_test , y_train , y_test = train_test_split(X,y ,test_size=0.2 , random_state=42)\n",
    "\n",
    "# Random Forest with tuning\n",
    "rf = RandomForestRegressor(random_state=42)\n",
    "param_grid = {\n",
    "    \"n_estimators\": [100, 200],\n",
    "    \"max_depth\": [10, 20],\n",
    "    \"min_samples_split\": [2, 5],\n",
    "    \"min_samples_leaf\": [1, 2],\n",
    "}\n",
    "rf_search = RandomizedSearchCV(rf, param_distributions=param_grid, n_iter=5, cv=3, random_state=42)\n",
    "rf_search.fit(X_train, y_train)\n",
    "\n",
    "rf_best = rf_search.best_estimator_\n",
    "y_pred_rf = rf_best.predict(X_test)\n",
    "mae_rf = mean_absolute_error(y_test, y_pred_rf)\n",
    "r2_rf = r2_score(y_test, y_pred_rf)\n",
    "\n",
    "print(f\"🌲RandomForest MAE: {mae_rf:.3f}, R²: {r2_rf:.3f}\")\n",
    "\n"
   ]
  },
  {
   "cell_type": "code",
   "execution_count": 96,
   "metadata": {},
   "outputs": [
    {
     "name": "stdout",
     "output_type": "stream",
     "text": [
      "Fitting 5 folds for each of 729 candidates, totalling 3645 fits\n",
      "Best parameters found: {'learning_rate': 0.01, 'max_depth': 3, 'min_samples_leaf': 4, 'min_samples_split': 10, 'n_estimators': 300, 'subsample': 1.0}\n",
      "🚀 GradientBoosting MAE: 0.128, R²: 0.637\n"
     ]
    }
   ],
   "source": [
    "from sklearn.ensemble import GradientBoostingRegressor\n",
    "from sklearn.model_selection import GridSearchCV\n",
    "from sklearn.metrics import mean_absolute_error, r2_score\n",
    "\n",
    "# Initialize GradientBoostingRegressor\n",
    "model_gb = GradientBoostingRegressor(random_state=42)\n",
    "\n",
    "# Define the parameter grid for tuning\n",
    "param_grid = {\n",
    "    \"n_estimators\": [100, 200, 300],         # Number of boosting stages (trees)\n",
    "    \"learning_rate\": [0.01, 0.05, 0.1],      # How much each tree contributes to the model\n",
    "    \"max_depth\": [3, 5, 7],                   # Maximum depth of each tree\n",
    "    \"min_samples_split\": [2, 5, 10],          # Minimum number of samples required to split a node\n",
    "    \"min_samples_leaf\": [1, 2, 4],            # Minimum number of samples required at a leaf node\n",
    "    \"subsample\": [0.8, 0.9, 1.0]              # Fraction of samples used for each tree\n",
    "}\n",
    "# Use GridSearchCV to find the best parameters\n",
    "grid_search = GridSearchCV(estimator=model_gb, param_grid=param_grid, cv=5, n_jobs=-1, verbose=2)\n",
    "grid_search.fit(X_train, y_train)\n",
    "\n",
    "# Get the best parameters from GridSearchCV\n",
    "print(f\"Best parameters found: {grid_search.best_params_}\")\n",
    "\n",
    "# Predict using the best model\n",
    "y_pred_gb = grid_search.best_estimator_.predict(X_test)\n",
    "\n",
    "# Evaluate the model\n",
    "mae_gb = mean_absolute_error(y_test, y_pred_gb)\n",
    "r2_gb = r2_score(y_test, y_pred_gb)\n",
    "\n",
    "# Print the evaluation metrics\n",
    "print(f\"🚀 GradientBoosting MAE: {mae_gb:.3f}, R²: {r2_gb:.3f}\")\n",
    "\n"
   ]
  },
  {
   "cell_type": "code",
   "execution_count": null,
   "metadata": {},
   "outputs": [],
   "source": []
  }
 ],
 "metadata": {
  "kernelspec": {
   "display_name": "Python 3 (ipykernel)",
   "language": "python",
   "name": "python3"
  },
  "language_info": {
   "codemirror_mode": {
    "name": "ipython",
    "version": 3
   },
   "file_extension": ".py",
   "mimetype": "text/x-python",
   "name": "python",
   "nbconvert_exporter": "python",
   "pygments_lexer": "ipython3",
   "version": "3.12.3"
  }
 },
 "nbformat": 4,
 "nbformat_minor": 4
}
